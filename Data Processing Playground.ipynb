{
 "cells": [
  {
   "cell_type": "code",
   "execution_count": 150,
   "id": "handed-stability",
   "metadata": {},
   "outputs": [],
   "source": [
    "import os\n",
    "import pickle\n",
    "from collections import Counter\n",
    "\n",
    "import numpy as np\n",
    "import pandas as pd\n",
    "from scipy import sparse\n",
    "from sklearn.decomposition import TruncatedSVD\n",
    "import matplotlib.pyplot as plt\n",
    "import matplotlib.font_manager as fm\n",
    "\n",
    "from tqdm import tqdm\n",
    "\n",
    "from preprocess import (\n",
    "    remove_punctuation,\n",
    "    split_sentences,\n",
    "    process_suffixes,\n",
    "    get_suffixes,\n",
    ")"
   ]
  },
  {
   "cell_type": "code",
   "execution_count": 19,
   "id": "fantastic-government",
   "metadata": {},
   "outputs": [],
   "source": [
    "# CONSTANTS\n",
    "CORPUS_PATH = './corpus'\n",
    "SUFFIXES = get_suffixes()\n",
    "WORDS_COUNT_FILE = 'words_count.txt'\n",
    "PAIR_COOCCURENCES_FILE = 'pair_cooccurences.txt'\n",
    "MIN_COUNT_THRESHOLD = 2  # All the tokens with counts less than or equal to this will be ignored from consideration\n",
    "CO_OCCURENCE_WINDOW = 2  # Consider window of two words to consider to have \"co-occured\""
   ]
  },
  {
   "cell_type": "code",
   "execution_count": 20,
   "id": "direct-lecture",
   "metadata": {},
   "outputs": [],
   "source": [
    "# GET CORPUS\n",
    "content_files = os.listdir(CORPUS_PATH)\n",
    "\n",
    "all_content = []\n",
    "\n",
    "for filename in content_files:\n",
    "    path = os.path.join(CORPUS_PATH, filename)\n",
    "    with open(path, 'r') as f:\n",
    "        all_content.append(f.read())\n"
   ]
  },
  {
   "cell_type": "code",
   "execution_count": 21,
   "id": "viral-convention",
   "metadata": {},
   "outputs": [],
   "source": [
    "def clean_and_extract_sentences(text):\n",
    "    clean = remove_punctuation(text)\n",
    "    sentences = split_sentences(clean)\n",
    "    sentences_word_list = []\n",
    "    for sentence in sentences:\n",
    "        splitted = [x for x in sentence.split() if x]\n",
    "        suffix_processed = process_suffixes(SUFFIXES, splitted)\n",
    "        sentences_word_list.append(\n",
    "            [x for x in suffix_processed if x]\n",
    "        )\n",
    "    return sentences_word_list"
   ]
  },
  {
   "cell_type": "code",
   "execution_count": 22,
   "id": "convinced-aaron",
   "metadata": {},
   "outputs": [
    {
     "name": "stdout",
     "output_type": "stream",
     "text": [
      "43355\n"
     ]
    }
   ],
   "source": [
    "# Get unique words and their corresponding count within corpus\n",
    "words_count = Counter()\n",
    "for content in all_content:\n",
    "    cleaned_sentences = clean_and_extract_sentences(content)\n",
    "    for sentence in cleaned_sentences:\n",
    "        words_count.update(sentence)\n",
    "\n",
    "# Remove low count items\n",
    "words_count = {k: v for k, v in words_count.items() if v > MIN_COUNT_THRESHOLD}\n",
    "print(len(words_count))"
   ]
  },
  {
   "cell_type": "code",
   "execution_count": 23,
   "id": "encouraging-organic",
   "metadata": {},
   "outputs": [
    {
     "name": "stdout",
     "output_type": "stream",
     "text": [
      "Time taken to sort :  0.01614999771118164\n",
      "WRITTEN\n"
     ]
    }
   ],
   "source": [
    "# Save words list, sorted\n",
    "import time\n",
    "s = time.time()\n",
    "sorted_words_list = sorted(words_count.items(), key=lambda x: x[1], reverse=True)\n",
    "e = time.time()\n",
    "print('Time taken to sort : ', e - s)\n",
    "\n",
    "def write_to_file():\n",
    "    with open(WORDS_COUNT_FILE, 'w') as f:\n",
    "        for k, v in sorted_words_list:\n",
    "            f.write(f'{k} {v}\\n')\n",
    "write_to_file()\n",
    "print('WRITTEN')"
   ]
  },
  {
   "cell_type": "code",
   "execution_count": 24,
   "id": "threaded-watershed",
   "metadata": {},
   "outputs": [
    {
     "name": "stdout",
     "output_type": "stream",
     "text": [
      "WORD_IDS LOADED\n"
     ]
    }
   ],
   "source": [
    "# LOAD WORD IDS\n",
    "words_ids = dict()\n",
    "with open(WORDS_COUNT_FILE, 'r') as f:\n",
    "    for i, line in enumerate(f.readlines()):\n",
    "        word, _ = line.split()\n",
    "        words_ids[word] = i\n",
    "print('WORD_IDS LOADED')"
   ]
  },
  {
   "cell_type": "code",
   "execution_count": 25,
   "id": "obvious-spain",
   "metadata": {},
   "outputs": [
    {
     "name": "stdout",
     "output_type": "stream",
     "text": [
      "Counter({(3, 4): 2, (3, 5): 2, (1, 3): 2, (1, 2): 1, (2, 3): 1, (4, 5): 1, (2, 4): 1, (1, 5): 1})\n"
     ]
    }
   ],
   "source": [
    "def get_sentence_cooccurences(sentence_word_ids):\n",
    "    occurences = Counter()\n",
    "    for i in range(CO_OCCURENCE_WINDOW):\n",
    "        shifted = sentence_word_ids[i+1:]\n",
    "        pairs = zip(sentence_word_ids, shifted)\n",
    "        sorted_pairs = [tuple(sorted(pair)) for pair in pairs]  # Only work on sorted tuple as (1,2) and (2,1) have same values in the matrix\n",
    "        occurences.update(Counter(sorted_pairs))\n",
    "    return occurences\n",
    "\n",
    "print(get_sentence_cooccurences([1,2,3,4,5,3,1]))"
   ]
  },
  {
   "cell_type": "code",
   "execution_count": 31,
   "id": "convertible-ethernet",
   "metadata": {},
   "outputs": [
    {
     "name": "stdout",
     "output_type": "stream",
     "text": [
      "DONE creating pair cooccurences\n"
     ]
    }
   ],
   "source": [
    "pair_cooccurences = Counter()\n",
    "# Use the sentences list to create coocrurence matrix\n",
    "for content in all_content:\n",
    "    cleaned_sentences = clean_and_extract_sentences(content)\n",
    "    for sentence in cleaned_sentences:\n",
    "        word_ids = [words_ids[w] for w in sentence if w in words_ids]\n",
    "        occurences = get_sentence_cooccurences(word_ids)\n",
    "        pair_cooccurences.update(occurences)\n",
    "print('DONE creating pair cooccurences')"
   ]
  },
  {
   "cell_type": "code",
   "execution_count": 32,
   "id": "round-harvey",
   "metadata": {},
   "outputs": [
    {
     "name": "stdout",
     "output_type": "stream",
     "text": [
      "2544211\n",
      "Written cooccurences to file pair_cooccurences.txt\n"
     ]
    }
   ],
   "source": [
    "# Write pair_cooccurences to a file\n",
    "print(len(pair_cooccurences))\n",
    "with open(PAIR_COOCCURENCES_FILE, 'w') as f:\n",
    "    for (w1_id, w2_id), cooccurences in pair_cooccurences.items():\n",
    "        f.write(f'{w1_id} {w2_id} {cooccurences}\\n')\n",
    "print(f'Written cooccurences to file {PAIR_COOCCURENCES_FILE}')"
   ]
  },
  {
   "cell_type": "code",
   "execution_count": 75,
   "id": "frank-nicholas",
   "metadata": {},
   "outputs": [
    {
     "name": "stdout",
     "output_type": "stream",
     "text": [
      "LOADING WORD_IDS\n",
      "LOADED WORD_IDS.\n",
      "LOADING COOCCURRENCES...\n",
      "LOADED COOCCURRENCES.\n"
     ]
    }
   ],
   "source": [
    "## NOW all the data is processed, we just need to load cooccurences and words_ids files to work with creating vector embeddings\n",
    "\n",
    "print('LOADING WORD_IDS')\n",
    "word_ids = {}\n",
    "word_ids_reverse = {}\n",
    "with open(WORDS_COUNT_FILE, 'r') as f:\n",
    "    for i, line in enumerate(f.readlines()):\n",
    "        if not line.strip():\n",
    "            continue\n",
    "        word, _ = line.split()\n",
    "        word_ids[word] = i\n",
    "        word_ids_reverse[i] = word\n",
    "print('LOADED WORD_IDS.')\n",
    "\n",
    "\n",
    "cooccurrences_symmetric = dict()\n",
    "print('LOADING COOCCURRENCES...')\n",
    "with open(PAIR_COOCCURENCES_FILE, 'r') as f:\n",
    "    for line in f.readlines():\n",
    "        if not line.strip():\n",
    "            continue\n",
    "        w1, w2, occ = line.split()\n",
    "        pair = tuple(sorted([int(w1), int(w2)]))\n",
    "        cooccurrences_symmetric[pair] = int(occ)\n",
    "print('LOADED COOCCURRENCES.')"
   ]
  },
  {
   "cell_type": "code",
   "execution_count": 77,
   "id": "economic-nancy",
   "metadata": {},
   "outputs": [
    {
     "name": "stderr",
     "output_type": "stream",
     "text": [
      "100%|██████████| 2544211/2544211 [00:01<00:00, 2055980.84it/s]\n"
     ]
    }
   ],
   "source": [
    "\n",
    "def get_standard_deviations(cooccurrences_symmetric, word_ids):\n",
    "    \"\"\"\n",
    "    Get variance of given dimension(here each word contributes as a dimension)\n",
    "    This will later be used to filter out non varying dimensions\n",
    "    @parameters:\n",
    "        - cooccurrences_symmetric: cooccurence matrix\n",
    "        - word_ids: words(dimensions)\n",
    "    @returns: a float denoting the variance\n",
    "    \"\"\"\n",
    "    vocab_size = len(word_ids)\n",
    "    word_cols = {v: [] for v in word_ids.values()}\n",
    "    word_mean = dict()\n",
    "    for (w1, w2), occ in tqdm(cooccurrences_symmetric.items()):\n",
    "        if w1 == w2:\n",
    "            word_cols[w1].append(occ)\n",
    "        else:\n",
    "            word_cols[w1].append(occ)\n",
    "            word_cols[w2].append(occ)\n",
    "            \n",
    "    for k,v in word_cols.items():\n",
    "        word_mean[k] = sum(v) / vocab_size\n",
    "    # Now get stds\n",
    "    stds = dict()\n",
    "    for k, cols in word_cols.items():\n",
    "        count = len(cols)\n",
    "        diff = vocab_size - count  # to account for all the zero values not included in the cols list\n",
    "        sq_sum = sum([(v - word_mean[k])**2 for v in cols]) + diff * (word_mean[k]**2)\n",
    "        var = (sq_sum / vocab_size)**0.5\n",
    "        stds[k] = var\n",
    "    \n",
    "    return stds\n",
    "\n",
    "stds = get_standard_deviations(cooccurrences_symmetric, word_ids)\n",
    "\n",
    "# sort by min\n",
    "sorted_stds = sorted(stds.items(), key=lambda x: x[1], reverse=True)\n"
   ]
  },
  {
   "cell_type": "code",
   "execution_count": 90,
   "id": "driving-disposition",
   "metadata": {},
   "outputs": [
    {
     "name": "stdout",
     "output_type": "stream",
     "text": [
      "43355 21677500\n"
     ]
    },
    {
     "data": {
      "text/plain": [
       "[('N', 314.57061585146124),\n",
       " ('जना', 141.90838150508387),\n",
       " ('छ', 120.31633821104067),\n",
       " ('भए', 116.89596953583634),\n",
       " ('र', 101.6471204887892),\n",
       " ('हजार', 94.8245688004677),\n",
       " ('गरे', 83.18251651923703),\n",
       " ('लाई', 81.90002150303681),\n",
       " ('कोरोना', 76.7537196709119),\n",
       " ('काठमाडौं', 68.97008435760081),\n",
       " ('संक्रमण', 67.68804494966761),\n",
       " ('लाख', 57.67700680926944),\n",
       " ('उन', 57.24165414729157),\n",
       " ('पनि', 56.076446846906755),\n",
       " ('भने', 55.570557723674945),\n",
       " ('सय', 53.89468574189847),\n",
       " ('गते', 52.68251183734964),\n",
       " ('मृत्यु', 50.38775891757052),\n",
       " ('पुष्टि', 49.458200712918284),\n",
       " ('छन्', 49.32864497162342),\n",
       " ('बाट', 47.70868955195903),\n",
       " ('दिए', 45.035118089709634),\n",
       " ('पछि', 44.274414161033675),\n",
       " ('वर्ष', 43.73484250200516),\n",
       " ('करोड', 41.996482855712074),\n",
       " ('देखि', 41.35386184500176),\n",
       " ('संक्रमित', 40.959078494575785),\n",
       " ('जानकारी', 40.58613469179143),\n",
       " ('सम्म', 39.86162369334996),\n",
       " ('रुपैयाँ', 37.12106556501025),\n",
       " ('सरकार', 35.150934103988114),\n",
       " ('प्रतिशत', 34.619055737065594),\n",
       " ('जनाए', 34.11443203223226),\n",
       " ('प्रहरी', 33.9871556055008),\n",
       " ('ओली', 33.90224457153849),\n",
       " ('प्रदेश', 33.812363517407135),\n",
       " ('गर्ने', 33.149090351507056),\n",
       " ('अर्ब', 32.88236722246928),\n",
       " ('थियो', 32.37306564627728),\n",
       " ('हो', 32.267358265080645),\n",
       " ('बताए', 32.12814127982719),\n",
       " ('गरिए', 32.05117458574662),\n",
       " ('नेपाल', 31.213090544260137),\n",
       " ('वर्षीय', 30.6132894755678),\n",
       " ('भाइरस', 30.093087593960394),\n",
       " ('गर्न', 28.92106663207867),\n",
       " ('कार्यालय', 28.558446063084805),\n",
       " ('भन्दा', 27.608757021978857),\n",
       " ('आए', 27.6073238657719),\n",
       " ('केपी', 27.395997797489287),\n",
       " ('लागि', 27.111011808717247),\n",
       " ('एक', 27.019635084100084),\n",
       " ('जिल्ला', 26.506767073570984),\n",
       " ('प्रधानमन्त्री', 25.914481006448007),\n",
       " ('सँग', 25.879016311645245),\n",
       " ('दिन', 25.184530704715193),\n",
       " ('रहे', 24.654882648803653),\n",
       " ('निर्णय', 24.27364412396237),\n",
       " ('यस', 24.1027150974978),\n",
       " ('जेठ', 23.405242715721787),\n",
       " ('अस्पताल', 22.807648522739928),\n",
       " ('तथा', 22.240956865959312),\n",
       " ('उनी', 22.154100925979183),\n",
       " ('शर्', 22.1149708376094),\n",
       " ('संख्या', 21.78203154114259),\n",
       " ('हुने', 21.761700561274914),\n",
       " ('त्यस', 21.24240385958458),\n",
       " ('पुगे', 21.101532613009123),\n",
       " ('अनुसार', 20.775401567647297),\n",
       " ('बजे', 20.660522982077598),\n",
       " ('मध्ये', 20.6006675764311),\n",
       " ('पार्टी', 20.355378329041756),\n",
       " ('वटा', 20.31042420763841),\n",
       " ('पुरुष', 20.26388991438282),\n",
       " ('काम', 20.0158693305293),\n",
       " ('थिए', 20.007778893692418),\n",
       " ('असार', 19.947118089365564),\n",
       " ('स्थानीय', 19.709910485626313),\n",
       " ('भनाइ', 19.497780788350315),\n",
       " ('बढी', 19.48875650407894),\n",
       " ('परीक्षण', 19.370889027104955),\n",
       " ('देखिए', 19.09808172609548),\n",
       " ('भदौ', 18.968059160571737),\n",
       " ('अहि', 18.79906833107001),\n",
       " ('मात्र', 18.602505677733134),\n",
       " ('अघि', 18.573001298266963),\n",
       " ('साउन', 18.473079650458324),\n",
       " ('यो', 18.38542383111856),\n",
       " ('मन्त्रालय', 18.31850912752799),\n",
       " ('नै', 18.14781689208341),\n",
       " ('सबै', 17.994006379145763),\n",
       " ('वैशाख', 17.705689337411354),\n",
       " ('तह', 17.508316613618028),\n",
       " ('स्वास्थ्य', 17.477722359570844),\n",
       " ('भारत', 17.261872175438832),\n",
       " ('बैठक', 17.137660868061445),\n",
       " ('वडा', 16.97678895783847),\n",
       " ('महिला', 16.67427996643015),\n",
       " ('नेपाली', 16.374669547469583),\n",
       " ('पक्राउ', 16.189860349990447),\n",
       " ('कारण', 16.054721135196658),\n",
       " ('भन्ने', 15.984452189239951),\n",
       " ('नम्बर', 15.8520077428843),\n",
       " ('परे', 15.635778482509389),\n",
       " ('दुई', 15.622719557916325),\n",
       " ('पुस', 15.48864941432618),\n",
       " ('प्रमुख', 15.473480648952428),\n",
       " ('सहित', 15.380386417389664),\n",
       " ('उपचार', 15.10066013534148),\n",
       " ('असोज', 15.041372979182999),\n",
       " ('थप', 15.024230992933985),\n",
       " ('आर्थिक', 14.880046029932007),\n",
       " ('नेता', 14.60179284120256),\n",
       " ('हामी', 14.532232643274675),\n",
       " ('क्षेत्र', 14.44015720694502),\n",
       " ('समेत', 14.395103768548193),\n",
       " ('माघ', 14.230713890006193),\n",
       " ('गरी', 14.221254983895916),\n",
       " ('महिना', 14.192315258429488),\n",
       " ('गर्दै', 13.931699580123704),\n",
       " ('संसद', 13.73876071044978),\n",
       " ('आग्रह', 13.690450732055675),\n",
       " ('कमिटी', 13.653568293603744),\n",
       " ('भइरहे', 13.64081160293618),\n",
       " ('माग', 13.565323215429816),\n",
       " ('उल्लेख', 13.539122692110475),\n",
       " ('फागुन', 13.52298058408038),\n",
       " ('तर', 13.416243921296367),\n",
       " ('अवस्था', 13.393215894055064),\n",
       " ('नेकपा', 13.365703265840207),\n",
       " ('कात्तिक', 13.159903746319936),\n",
       " ('समय', 13.023576895316861),\n",
       " ('घण्टा', 13.021116523907494),\n",
       " ('समस्या', 12.966483489922656),\n",
       " ('अधिकारी', 12.945858833961552),\n",
       " ('मंसिर', 12.939174589139501),\n",
       " ('समूह', 12.833525098030787),\n",
       " ('घर', 12.802905093833653),\n",
       " ('विघटन', 12.712913590140033),\n",
       " ('सुरु', 12.559536722755121),\n",
       " ('अध्यक्ष', 12.347792741451459),\n",
       " ('छैन', 12.314031614252187),\n",
       " ('भन्दै', 12.263492497878886),\n",
       " ('साल', 12.156830777324227),\n",
       " ('केही', 11.808131457596474),\n",
       " ('नगरपालिका', 11.755829862725028),\n",
       " ('व्यवस्था', 11.712139852686443),\n",
       " ('स्थायी', 11.68887960413743),\n",
       " ('करिब', 11.659831039116902),\n",
       " ('महामारी', 11.64336252520026),\n",
       " ('कुनै', 11.512197237834332),\n",
       " ('समिति', 11.39680820627718),\n",
       " ('वर्षीया', 11.157858546050031),\n",
       " ('चैत', 11.047524070931718),\n",
       " ('कार्यक्रम', 10.992322065997373),\n",
       " ('रिपोर्ट', 10.905831466286969),\n",
       " ('जारी', 10.717516076802875),\n",
       " ('गरेर', 10.686496982670334),\n",
       " ('छलफल', 10.604892165888078),\n",
       " ('नियन्त्रण', 10.551034805363717),\n",
       " ('आफू', 10.448660983749527),\n",
       " ('देश', 10.448482075907794),\n",
       " ('स्वाब', 10.395710765161562),\n",
       " ('अनलाइनखबर', 10.351423545300417),\n",
       " ('म', 10.345251595352565),\n",
       " ('दल', 10.34445118705635),\n",
       " ('पछिल्लो', 10.19958902877847),\n",
       " ('सदस्य', 10.134834869392144),\n",
       " ('हुन', 10.106804447651822),\n",
       " ('विकास', 10.024483968509907),\n",
       " ('नं', 10.009416035587147),\n",
       " ('कांग्रेस', 9.999649665828938),\n",
       " ('अदालत', 9.97488338792995),\n",
       " ('धेरै', 9.97388371617909),\n",
       " ('गत', 9.959859032970028),\n",
       " ('गाउँपालिका', 9.959234381851457),\n",
       " ('भित्र', 9.95139035653132),\n",
       " ('बीच', 9.934428730199363),\n",
       " ('बारे', 9.878944282147373),\n",
       " ('प्रचण्ड', 9.85905159606828),\n",
       " ('विषय', 9.844060994899584),\n",
       " ('कम्युनिस्ट', 9.81316458757887),\n",
       " ('संकलन', 9.717480041283967),\n",
       " ('कुरा', 9.70854926705382),\n",
       " ('दिने', 9.696818930782017),\n",
       " ('निर्माण', 9.62138133933192),\n",
       " ('क्रम', 9.441954343143351),\n",
       " ('तीन', 9.367877760529248),\n",
       " ('जनसंख्या', 9.352951962878599),\n",
       " ('भर', 9.295614362325107),\n",
       " ('भनिए', 9.270859655560328),\n",
       " ('बजेट', 9.22869138273337),\n",
       " ('भन्छन्', 9.156872334271393),\n",
       " ('गर्दा', 8.97165941994095),\n",
       " ('खर्ब', 8.96863445321223),\n",
       " ('तयारी', 8.920852051642129),\n",
       " ('लकडाउन', 8.91258178009604),\n",
       " ('सञ्चालन', 8.810489886554146),\n",
       " ('बिहान', 8.750788364720627),\n",
       " ('पीसीआर', 8.696007123632059),\n",
       " ('प्रस्ताव', 8.649823871388163),\n",
       " ('डा', 8.579273205013662),\n",
       " ('नीति', 8.517028967911532),\n",
       " ('बैंक', 8.479750728335548),\n",
       " ('तर्फ', 8.470400466669599),\n",
       " ('केन्द्रीय', 8.441289860328732),\n",
       " ('हुन्', 8.420712117961529),\n",
       " ('हाल', 8.37638306537285),\n",
       " ('प्रशासन', 8.335268820922758),\n",
       " ('सन्', 8.324773055389324),\n",
       " ('सेवा', 8.301354976597752),\n",
       " ('निर्देशन', 8.29683910243912),\n",
       " ('पोजेटिभ', 8.270541452417909),\n",
       " ('बसे', 8.243191644487064),\n",
       " ('भर्ना', 8.217372639821788),\n",
       " ('अन्य', 8.02781020910104),\n",
       " ('सर्वोच्च', 8.001406601942179),\n",
       " ('घाइते', 7.967449831850465),\n",
       " ('नभए', 7.937690511534106),\n",
       " ('त', 7.9365485590764475),\n",
       " ('गरिरहे', 7.881442213855825),\n",
       " ('कोभिड', 7.858023701681775),\n",
       " ('व्यक्ति', 7.857975420587171),\n",
       " ('के', 7.841419864661474),\n",
       " ('जनता', 7.76590636200405),\n",
       " ('अनुसन्धान', 7.731162575337368),\n",
       " ('सांसद', 7.662844859471983),\n",
       " ('सामाजिक', 7.633470916124653),\n",
       " ('नागरिक', 7.601767901333243),\n",
       " ('स्थित', 7.597843741209174),\n",
       " ('पक्ष', 7.58916864828219),\n",
       " ('आयोग', 7.588469938064796),\n",
       " ('संविधान', 7.550998390551704),\n",
       " ('रुप', 7.513032691207125),\n",
       " ('लामो', 7.4476420124279334),\n",
       " ('सक्ने', 7.431558259941311),\n",
       " ('भइसके', 7.3387141514983005),\n",
       " ('नि', 7.3226629444589415),\n",
       " ('परिवार', 7.288012495372899),\n",
       " ('थपिए', 7.254478460724579),\n",
       " ('सशस्त्र', 7.232969173290275),\n",
       " ('कर्मचारी', 7.198900364892613),\n",
       " ('था', 7.173714502282599),\n",
       " ('दाबी', 7.162188442299593),\n",
       " ('संसदीय', 7.109828058997446),\n",
       " ('सेना', 7.088094917985366),\n",
       " ('बन्द', 7.054697040477883),\n",
       " ('बढे', 7.020804893882577),\n",
       " ('सार्वजनिक', 7.016698640269673),\n",
       " ('आइसोलेसन', 7.001251848321047),\n",
       " ('कोभिड–N', 6.88788506659624),\n",
       " ('घोषणा', 6.862476600042693),\n",
       " ('व्यवस्थापन', 6.836968984679301),\n",
       " ('फेला', 6.780475518865323),\n",
       " ('गए', 6.780255318158194),\n",
       " ('खर्च', 6.726888432015458),\n",
       " ('उपरीक्षक', 6.723589359002521),\n",
       " ('वीरगञ्ज', 6.699431825027351),\n",
       " ('सके', 6.696736286386822),\n",
       " ('होइन', 6.6943921687351065),\n",
       " ('विज्ञान', 6.678631477125273),\n",
       " ('हुन्छ', 6.64456136456235),\n",
       " ('मेडिकल', 6.63872117047251),\n",
       " ('बस्ने', 6.630854895310205),\n",
       " ('त्यो', 6.5836456189860755),\n",
       " ('माथि', 6.56012061598083),\n",
       " ('कि', 6.557028294713608),\n",
       " ('कम्पनी', 6.5298610216732),\n",
       " ('राति', 6.500956654474454),\n",
       " ('नेगेटिभ', 6.490887031310523),\n",
       " ('कोभिडN', 6.471925738842264),\n",
       " ('लागे', 6.432926096585293),\n",
       " ('सडक', 6.420960332369369),\n",
       " ('निजी', 6.374636016422207),\n",
       " ('उपत्य', 6.363386103765986),\n",
       " ('प्रतिष्ठान', 6.3531227231623175),\n",
       " ('नयाँ', 6.342648179997362),\n",
       " ('लिए', 6.3280875285981395),\n",
       " ('अब', 6.301197985743826),\n",
       " ('बताउँछन्', 6.29380962945161),\n",
       " ('राष्ट्रिय', 6.257946293013211),\n",
       " ('भनेर', 6.244420985973101),\n",
       " ('माधव', 6.22042007740243),\n",
       " ('लगायत', 6.216135661540959),\n",
       " ('कलेज', 6.2121227456232),\n",
       " ('उद्योग', 6.207558209708658),\n",
       " ('आरोप', 6.183375722093897),\n",
       " ('निर्वाचन', 6.173859770615527),\n",
       " ('केन्द्र', 6.1269812975694204),\n",
       " ('मन्त्री', 6.098005421939466),\n",
       " ('आयोजना', 6.046936471306344),\n",
       " ('क्वारेन्टिन', 6.045625907009772),\n",
       " ('चीन', 6.00384260198929),\n",
       " ('प्रयोग', 5.999523885401718),\n",
       " ('दाहाल', 5.995136578457237),\n",
       " ('प्रवक्ता', 5.965296873984185),\n",
       " ('विराटनगर', 5.924227805683104),\n",
       " ('सूचना', 5.908305523943549),\n",
       " ('आगामी', 5.86889026704333),\n",
       " ('जोखिम', 5.849701375750347),\n",
       " ('राष्ट्र', 5.832734886853408),\n",
       " ('विरुद्ध', 5.829692671240171),\n",
       " ('बाँ', 5.823148880550502),\n",
       " ('आफ्नो', 5.81682569109654),\n",
       " ('भयो', 5.803149841901783),\n",
       " ('कर्णाली', 5.800826959062408),\n",
       " ('छौं', 5.7995613712026355),\n",
       " ('प्रश्न', 5.793383558712948),\n",
       " ('विज्ञप्ति', 5.774739460465292),\n",
       " ('राष्ट्रपति', 5.761195778370878),\n",
       " ('सभा', 5.760753166241649),\n",
       " ('पहिलो', 5.7542714176503384),\n",
       " ('सवारी', 5.7485333943088),\n",
       " ('सहयोग', 5.718138601968839),\n",
       " ('चितवन', 5.701192635818838),\n",
       " ('गर्नुपर्ने', 5.682095581229868),\n",
       " ('राखिए', 5.678553553919519),\n",
       " ('विभिन्न', 5.665783371138714),\n",
       " ('श्रेष्ठ', 5.664210313389853),\n",
       " ('सचिवालय', 5.636766910406955),\n",
       " ('समाधान', 5.636126799692501),\n",
       " ('समाजवादी', 5.635471405978811),\n",
       " ('विभाग', 5.628701288062094),\n",
       " ('तयार', 5.615927794239698),\n",
       " ('धारा', 5.583685538461853),\n",
       " ('थापा', 5.582367099057412),\n",
       " ('ए', 5.559021107461596),\n",
       " ('राजनीतिक', 5.558991808637428),\n",
       " ('पुष्पकमल', 5.557220717873129),\n",
       " ('आउने', 5.528820091351543),\n",
       " ('सुरक्षा', 5.505319385413618),\n",
       " ('सुझाव', 5.4803715649811915),\n",
       " ('सी', 5.475782695820355),\n",
       " ('संस्था', 5.439144503247659),\n",
       " ('घटना', 5.400667226600422),\n",
       " ('पाँच', 5.395577212303556),\n",
       " ('कम', 5.379939430560365),\n",
       " ('आवश्यक', 5.369703861573878),\n",
       " ('योजना', 5.3568379783742355),\n",
       " ('पौडेल', 5.316132850479716),\n",
       " ('रोकथाम', 5.303367730962634),\n",
       " ('चार', 5.301804933323218),\n",
       " ('बिरामी', 5.283850721020123),\n",
       " ('दर्ता', 5.280939788654),\n",
       " ('संघ', 5.271408927191005),\n",
       " ('गण्ड', 5.2534438262678975),\n",
       " ('सकिने', 5.2524182193054045),\n",
       " ('अविश्वास', 5.247858605952054),\n",
       " ('विदेश', 5.240647244688425),\n",
       " ('लिएर', 5.238830434093433),\n",
       " ('साधन', 5.218558973583018),\n",
       " ('कुल', 5.186923210625539),\n",
       " ('रकम', 5.170969832545699),\n",
       " ('बेला', 5.14736415115583),\n",
       " ('उहाँ', 5.1459694149262285),\n",
       " ('अगाडि', 5.105806181087441),\n",
       " ('संशोधन', 5.084614341632893),\n",
       " ('विनियोजन', 5.069847632815935),\n",
       " ('स्रोत', 5.0656034312574025),\n",
       " ('प्रचण्ड–माधव', 5.059396017268349),\n",
       " ('विवाद', 5.024589583589129),\n",
       " ('अधिकृत', 5.024238722170717),\n",
       " ('ऐन', 5.001737186810105),\n",
       " ('प्रदर्शन', 4.996183527831783),\n",
       " ('पर्ने', 4.986824181226527),\n",
       " ('भएर', 4.986732176461907),\n",
       " ('विद्यालय', 4.981328520548081),\n",
       " ('भेटिए', 4.976177240478517),\n",
       " ('संघीय', 4.974519176843432),\n",
       " ('कृषि', 4.965399054168362),\n",
       " ('चालु', 4.962282774736015),\n",
       " ('विरोध', 4.9579908865873),\n",
       " ('प्रयोगशाला', 4.9133767610083146),\n",
       " ('साढे', 4.910981473886267),\n",
       " ('भण्डारी', 4.877369293472125),\n",
       " ('कम्युनिष्ट', 4.8750753146090835),\n",
       " ('मूल्य', 4.857770168695868),\n",
       " ('मुक्त', 4.827226876838831),\n",
       " ('बनाउने', 4.813631780054993),\n",
       " ('डिस्चार्ज', 4.798652559609986),\n",
       " ('ठूलो', 4.790631363437054),\n",
       " ('सहमति', 4.784748977312963),\n",
       " ('टोली', 4.775473441511664),\n",
       " ('तिर', 4.761921087845417),\n",
       " ('सुर्खेत', 4.740957935944486),\n",
       " ('खोप', 4.73316615560876),\n",
       " ('बाहिर', 4.713603414485097),\n",
       " ('बने', 4.702868301934841),\n",
       " ('मिटर', 4.686194035243621),\n",
       " ('वा', 4.668082732884868),\n",
       " ('नेतृत्व', 4.648477653816652),\n",
       " ('भारतीय', 4.647065472512885),\n",
       " ('कायम', 4.631811733415498),\n",
       " ('मुख्यमन्त्री', 4.6133809763316185),\n",
       " ('कैलाली', 4.61098522091014),\n",
       " ('सत्तारुढ', 4.604953741647634),\n",
       " ('नारायणी', 4.593539533303281),\n",
       " ('अर्को', 4.57091793330681),\n",
       " ('ठाउँ', 4.569445075073757),\n",
       " ('बुटवल', 4.555910669404124),\n",
       " ('कारबाही', 4.55284707050067),\n",
       " ('जस', 4.543992407332921),\n",
       " ('पटक', 4.5359930568267455),\n",
       " ('व्यवसायी', 4.534543190423712),\n",
       " ('कक्षा', 4.531893952285306),\n",
       " ('पाए', 4.529688867655263),\n",
       " ('नसके', 4.524674655422648),\n",
       " ('कसै', 4.520757742057718),\n",
       " ('एकता', 4.511939436543719),\n",
       " ('विद्यार्थी', 4.509669406681882),\n",
       " ('पर्सा', 4.491307355116319),\n",
       " ('माओवादी', 4.489513426788164),\n",
       " ('मानिस', 4.479130000461576),\n",
       " ('मुलुक', 4.4767275684651375),\n",
       " ('गठन', 4.474949405669179),\n",
       " ('पाइए', 4.472794770269344),\n",
       " ('गराए', 4.454757793170234),\n",
       " ('सम्बोधन', 4.444127576058613),\n",
       " ('अनुमान', 4.440502577625457),\n",
       " ('इला', 4.427596790567052),\n",
       " ('राहत', 4.426319165542022),\n",
       " ('प्रवेश', 4.406720778996843),\n",
       " ('बनाउन', 4.4048304524395885),\n",
       " ('राखे', 4.374639307984151),\n",
       " ('बजार', 4.371313547152741),\n",
       " ('अवधि', 4.3680848894044795),\n",
       " ('सम्झौता', 4.366102712143953),\n",
       " ('किलोमिटर', 4.344852751739806),\n",
       " ('बनाए', 4.33325555309452),\n",
       " ('एकजना', 4.330747183505932),\n",
       " ('लगाए', 4.308308791855339),\n",
       " ('आधार', 4.301984094727647),\n",
       " ('हत्या', 4.281321386357079),\n",
       " ('समन्वय', 4.2788287684278625),\n",
       " ('शव', 4.267553270084414),\n",
       " ('वितरण', 4.26743103881802),\n",
       " ('दिउँसो', 4.261830589896246),\n",
       " ('ती', 4.253082905592777),\n",
       " ('कार्यकारी', 4.252817932265895),\n",
       " ('सरकारी', 4.250742449253897),\n",
       " ('उपलब्ध', 4.24853917409773),\n",
       " ('वरिष्ठ', 4.245991338490585),\n",
       " ('सामग्री', 4.231926464616967),\n",
       " ('मुद्दा', 4.231290184844754),\n",
       " ('लगानी', 4.228243529991649),\n",
       " ('बुधबार', 4.224558962936113),\n",
       " ('सिफारिस', 4.2231578137582115),\n",
       " ('बाहेक', 4.212783930514243),\n",
       " ('वित्तीय', 4.209174607834798),\n",
       " ('वाणिज्य', 4.207207742397074),\n",
       " ('उत्पादन', 4.193598186633675),\n",
       " ('अमेरि', 4.183382724071509),\n",
       " ('आइतबार', 4.179130664280126),\n",
       " ('साता', 4.176552454579665),\n",
       " ('प्रक्रिया', 4.171461167630944),\n",
       " ('यस्तो', 4.1588723075712615),\n",
       " ('दिइए', 4.153194503595798),\n",
       " ('भूमि', 4.123351032573903),\n",
       " ('फर्किए', 4.120179402579053),\n",
       " ('सोमबार', 4.118592559819189),\n",
       " ('गरिने', 4.118540727927182),\n",
       " ('पर्यटन', 4.106219826967035),\n",
       " ('व्यक्त', 4.081439840428407),\n",
       " ('राखेर', 4.07560696742884),\n",
       " ('दफा', 4.067800583962995),\n",
       " ('सक्छ', 4.066694430800356),\n",
       " ('अध्ययन', 4.061543829417256),\n",
       " ('निर्देशक', 4.053650074666729),\n",
       " ('पोखरा', 4.042438568327666),\n",
       " ('ना', 4.02831575987098),\n",
       " ('नमुना', 4.024175261910788),\n",
       " ('सम्पर्क', 4.020672895987848),\n",
       " ('रोजगारी', 4.0115261691867445),\n",
       " ('कसरी', 4.005338033587114),\n",
       " ('चरण', 3.986279247138055),\n",
       " ('उमेर', 3.9845807627470196),\n",
       " ('सहभागी', 3.9622312765246845),\n",
       " ('विश्व', 3.9617273808315403),\n",
       " ('भक्तपुर', 3.9507670611631274),\n",
       " ('प्राथमिकता', 3.9507434315426737),\n",
       " ('पूर्वाधार', 3.9409390521463465),\n",
       " ('क्वारेन्टाइन', 3.9279457627911087),\n",
       " ('दैनिक', 3.9233632026273373),\n",
       " ('गम्भीर', 3.9191685391153044),\n",
       " ('प्रतिनिधिसभा', 3.9045955017548346),\n",
       " ('आज', 3.893565838519518),\n",
       " ('ललितपुर', 3.886759601245001),\n",
       " ('खरिद', 3.8844138845425857),\n",
       " ('सम्बन्धित', 3.879228718355118),\n",
       " ('दुवै', 3.875416134347668),\n",
       " ('अधिकार', 3.8728788704293793),\n",
       " ('हुँदै', 3.867719050738811),\n",
       " ('गौतम', 3.852179674380223),\n",
       " ('नहुने', 3.8420425156421687),\n",
       " ('हुँदा', 3.839845081684424),\n",
       " ('सभापति', 3.8321354892607062),\n",
       " ('सकिन्छ', 3.828804338183914),\n",
       " ('महानगरपालि', 3.8256740935147104),\n",
       " ('मंगलबार', 3.7986023039697367),\n",
       " ('औं', 3.7957696827071414)]"
      ]
     },
     "execution_count": 90,
     "metadata": {},
     "output_type": "execute_result"
    }
   ],
   "source": [
    "print(len(word_ids), len(word_ids) * 500)\n",
    "[(word_ids_reverse[w], std) for w, std in sorted_stds[:500]]"
   ]
  },
  {
   "cell_type": "code",
   "execution_count": 96,
   "id": "million-welsh",
   "metadata": {
    "scrolled": false
   },
   "outputs": [
    {
     "data": {
      "text/plain": [
       "[<matplotlib.lines.Line2D at 0x7f526fcb1f60>]"
      ]
     },
     "execution_count": 96,
     "metadata": {},
     "output_type": "execute_result"
    },
    {
     "data": {
      "image/png": "[encoded data removed]",
      "text/plain": [
       "<Figure size 432x288 with 1 Axes>"
      ]
     },
     "metadata": {
      "needs_background": "light"
     },
     "output_type": "display_data"
    }
   ],
   "source": [
    "# plot standard deviations\n",
    "choosen = sorted_stds[:]\n",
    "std_vals = np.array([v for _, v in choosen])\n",
    "plt.plot(np.arange(len(choosen)), std_vals)"
   ]
  },
  {
   "cell_type": "code",
   "execution_count": 158,
   "id": "crazy-algorithm",
   "metadata": {},
   "outputs": [
    {
     "name": "stderr",
     "output_type": "stream",
     "text": [
      "100%|██████████| 43355/43355 [05:16<00:00, 137.02it/s]"
     ]
    },
    {
     "name": "stdout",
     "output_type": "stream",
     "text": [
      "DONE!!\n"
     ]
    },
    {
     "name": "stderr",
     "output_type": "stream",
     "text": [
      "\n"
     ]
    }
   ],
   "source": [
    "# Consider only certain number of dimensions with highest standard deviations\n",
    "N_DIMS_SELECTED = 10000\n",
    "choosen_dimensions = {k for k, _ in sorted_stds[:N_DIMS_SELECTED]}\n",
    "\n",
    "# NOW create sparse matrix of all words and their vector representations\n",
    "all_words_embeds = dict()\n",
    "for v in tqdm(word_ids.values()):\n",
    "    vector = []\n",
    "    for dim in choosen_dimensions:\n",
    "        pair = tuple(sorted([v, dim]))\n",
    "        vector.append(cooccurrences_symmetric.get(pair, 0))\n",
    "    all_words_embeds[v] = vector\n",
    "print('DONE!!')"
   ]
  },
  {
   "cell_type": "code",
   "execution_count": 163,
   "id": "pending-picture",
   "metadata": {},
   "outputs": [
    {
     "name": "stdout",
     "output_type": "stream",
     "text": [
      "done writing\n"
     ]
    }
   ],
   "source": [
    "import json\n",
    "# write dimensions and word vectors to pkl file\n",
    "RAW_VECTORS_PATH = 'raw_vectors.pkl'\n",
    "with open(RAW_VECTORS_PATH, 'wb') as f:\n",
    "    d = {'dimensions': list(choosen_dimensions)}\n",
    "    d['word_embeddings'] = sparse.csr_matrix([v for k, v in all_words_embeds.items()])\n",
    "    pickle.dump(d, f)\n",
    "print('done writing')"
   ]
  },
  {
   "cell_type": "code",
   "execution_count": 164,
   "id": "mathematical-philippines",
   "metadata": {},
   "outputs": [
    {
     "name": "stdout",
     "output_type": "stream",
     "text": [
      "LOADED VECTORS\n",
      "CREATED SPARSE MATRIX\n"
     ]
    }
   ],
   "source": [
    "# READ RAW vectors\n",
    "with open(RAW_VECTORS_PATH, 'rb') as f:\n",
    "    vectors_data = pickle.load(f)\n",
    "print('LOADED VECTORS')\n",
    "sparse_matrix = vectors_data['word_embeddings']\n",
    "print('CREATED SPARSE MATRIX')"
   ]
  },
  {
   "cell_type": "code",
   "execution_count": 168,
   "id": "junior-insulin",
   "metadata": {},
   "outputs": [
    {
     "name": "stdout",
     "output_type": "stream",
     "text": [
      "(43355, 10000)\n"
     ]
    },
    {
     "data": {
      "image/png": "[encoded data removed]",
      "text/plain": [
       "<Figure size 432x288 with 1 Axes>"
      ]
     },
     "metadata": {
      "needs_background": "light"
     },
     "output_type": "display_data"
    }
   ],
   "source": [
    "# Perform dimension reduction\n",
    "print(sparse_matrix.shape)\n",
    "components = 30\n",
    "tsvd = TruncatedSVD(n_components=components)\n",
    "tsvd.fit(sparse_matrix)\n",
    "plt.plot(np.arange(1, components+1), tsvd.explained_variance_ratio_)\n",
    "plt.grid(True)"
   ]
  },
  {
   "cell_type": "code",
   "execution_count": 169,
   "id": "dutch-wednesday",
   "metadata": {},
   "outputs": [
    {
     "name": "stdout",
     "output_type": "stream",
     "text": [
      "(43355, 30)\n",
      "Done\n"
     ]
    }
   ],
   "source": [
    "# Write the dimension reduced data to file\n",
    "transformed = tsvd.transform(sparse_matrix)\n",
    "print(transformed.shape)\n",
    "with open('reduced_data_ndarray.pkl', 'wb') as f:\n",
    "    pickle.dump(transformed, f)\n",
    "print('Done')"
   ]
  },
  {
   "cell_type": "code",
   "execution_count": 170,
   "id": "super-poverty",
   "metadata": {},
   "outputs": [
    {
     "name": "stdout",
     "output_type": "stream",
     "text": [
      "data loaded\n"
     ]
    }
   ],
   "source": [
    "# LOAD dim reduced data\n",
    "with open('reduced_data_ndarray.pkl', 'rb') as f:\n",
    "    data_array = pickle.load(f)\n",
    "print('data loaded')"
   ]
  },
  {
   "cell_type": "code",
   "execution_count": 149,
   "id": "useful-happening",
   "metadata": {},
   "outputs": [
    {
     "name": "stdout",
     "output_type": "stream",
     "text": [
      "no font\n",
      "/usr/share/fonts/noto/NotoSansDevanagariUI-Bold.ttf Noto Sans Devanagari UI\n",
      "/usr/share/fonts/noto/NotoSansDevanagariUI-Light.ttf Noto Sans Devanagari UI\n",
      "/usr/share/fonts/noto/NotoSerifDevanagari-Black.ttf Noto Serif Devanagari\n",
      "/usr/share/fonts/noto/NotoSansDevanagariUI-Medium.ttf Noto Sans Devanagari UI\n",
      "/usr/share/fonts/noto/NotoSerifDevanagari-Bold.ttf Noto Serif Devanagari\n",
      "no font\n",
      "/usr/share/fonts/noto/NotoSansDevanagari-Regular.ttf Noto Sans Devanagari\n",
      "no font\n",
      "/usr/share/fonts/noto/NotoSansDevanagari-Bold.ttf Noto Sans Devanagari\n",
      "/usr/share/fonts/noto/NotoSerifDevanagari-Light.ttf Noto Serif Devanagari\n",
      "/usr/share/fonts/noto/NotoSerifDevanagari-Regular.ttf Noto Serif Devanagari\n",
      "/usr/share/fonts/noto/NotoSansDevanagariUI-Thin.ttf Noto Sans Devanagari UI\n",
      "/usr/share/fonts/noto/NotoSansDevanagariUI-Regular.ttf Noto Sans Devanagari UI\n",
      "/usr/share/fonts/noto/NotoSansDevanagari-Medium.ttf Noto Sans Devanagari\n",
      "/usr/share/fonts/noto/NotoSansDevanagari-Light.ttf Noto Sans Devanagari\n",
      "/usr/share/fonts/noto/NotoSansDevanagariUI-Black.ttf Noto Sans Devanagari UI\n",
      "/usr/share/fonts/noto/NotoSansDevanagari-Black.ttf Noto Sans Devanagari\n",
      "/usr/share/fonts/noto/NotoSerifDevanagari-Medium.ttf Noto Serif Devanagari\n",
      "/usr/share/fonts/droid/DroidSansDevanagari-Regular.ttf Droid Sans Devanagari\n",
      "/usr/share/fonts/noto/NotoSerifDevanagari-Thin.ttf Noto Serif Devanagari\n",
      "/usr/share/fonts/noto/NotoSansDevanagari-Thin.ttf Noto Sans Devanagari\n"
     ]
    }
   ],
   "source": [
    "# Check for fonts\n",
    "# Source: https://jdhao.github.io/2018/04/08/matplotlib-unicode-character/\n",
    "\n",
    "from fontTools.ttLib import TTFont\n",
    "import matplotlib.font_manager as mfm\n",
    "\n",
    "def char_in_font(Unicode_char, font):\n",
    "    for cmap in font['cmap'].tables:\n",
    "        if cmap.isUnicode():\n",
    "            if ord(Unicode_char) in cmap.cmap:\n",
    "                return True\n",
    "    return False\n",
    "\n",
    "uni_char =  u\"ल\"\n",
    "# or uni_char = u\"\\u2739\"\n",
    "\n",
    "font_info = [(f.fname, f.name) for f in mfm.fontManager.ttflist]\n",
    "\n",
    "for i, font in enumerate(font_info):\n",
    "    try:\n",
    "        if char_in_font(uni_char, TTFont(font[0], fontNumber=0)):\n",
    "            print(font[0], font[1])\n",
    "    except:\n",
    "        print('no font')\n"
   ]
  },
  {
   "cell_type": "code",
   "execution_count": 187,
   "id": "arctic-above",
   "metadata": {},
   "outputs": [
    {
     "data": {
      "text/plain": [
       "<matplotlib.collections.PathCollection at 0x7f526d1e4080>"
      ]
     },
     "execution_count": 187,
     "metadata": {},
     "output_type": "execute_result"
    },
    {
     "name": "stderr",
     "output_type": "stream",
     "text": [
      "/home/bibek/.local/share/virtualenvs/nepali-vectors-embedding-Od9eAryh/lib/python3.7/site-packages/matplotlib/backends/backend_agg.py:240: RuntimeWarning: Glyph 108 missing from current font.\n",
      "  font.set_text(s, 0.0, flags=flags)\n",
      "/home/bibek/.local/share/virtualenvs/nepali-vectors-embedding-Od9eAryh/lib/python3.7/site-packages/matplotlib/backends/backend_agg.py:240: RuntimeWarning: Glyph 112 missing from current font.\n",
      "  font.set_text(s, 0.0, flags=flags)\n"
     ]
    },
    {
     "data": {
      "image/png": "[encoded data removed]",
      "text/plain": [
       "<Figure size 1080x864 with 1 Axes>"
      ]
     },
     "metadata": {
      "needs_background": "light"
     },
     "output_type": "display_data"
    }
   ],
   "source": [
    "## Add font for plotting\n",
    "plt.figure(figsize=(15, 12))\n",
    "prop = fm.FontProperties(fname='/usr/share/fonts/noto/NotoSansDevanagari-Regular.ttf')\n",
    "# Now reduce to two dimensions and view\n",
    "svd2 = TruncatedSVD(n_components=2)\n",
    "data_2d = svd2.fit_transform(data_array)\n",
    "choosen_indices = [16, 25, 39, 44, 52, 74, 101, 121, 204, 379, 374, 405]\n",
    "annotations = [word_ids_reverse[x] for x in choosen_indices]\n",
    "x = data_2d[choosen_indices, 0]\n",
    "y = data_2d[choosen_indices, 1]\n",
    "for i, label in enumerate(annotations):\n",
    "    plt.annotate(label, (x[i], y[i]), fontproperties=prop, fontsize=20)\n",
    "plt.scatter(x, y)"
   ]
  }
 ],
 "metadata": {
  "kernelspec": {
   "display_name": "nepali-vectors-embedding",
   "language": "python",
   "name": "nepali-vectors-embedding"
  },
  "language_info": {
   "codemirror_mode": {
    "name": "ipython",
    "version": 3
   },
   "file_extension": ".py",
   "mimetype": "text/x-python",
   "name": "python",
   "nbconvert_exporter": "python",
   "pygments_lexer": "ipython3",
   "version": "3.7.2"
  }
 },
 "nbformat": 4,
 "nbformat_minor": 5
}
