{
 "cells": [
  {
   "cell_type": "code",
   "execution_count": 1,
   "id": "concrete-gallery",
   "metadata": {},
   "outputs": [],
   "source": [
    "import numpy as np\n",
    "import pandas as pd\n",
    "from preprocess import (\n",
    "    remove_punctuation,\n",
    "    split_sentences,\n",
    "    process_suffixes,\n",
    "    get_suffixes,\n",
    ")"
   ]
  },
  {
   "cell_type": "code",
   "execution_count": 2,
   "id": "private-landscape",
   "metadata": {},
   "outputs": [],
   "source": [
    "# CONSTANTS\n",
    "CORPUS_PATH = './corpus'\n",
    "SUFFIXES = get_suffixes()"
   ]
  },
  {
   "cell_type": "code",
   "execution_count": 3,
   "id": "attempted-disclosure",
   "metadata": {},
   "outputs": [],
   "source": [
    "# GET CORPUS\n",
    "import os\n",
    "\n",
    "content_files = os.listdir(CORPUS_PATH)\n",
    "\n",
    "all_content = []\n",
    "\n",
    "for filename in content_files:\n",
    "    path = os.path.join(CORPUS_PATH, filename)\n",
    "    with open(path, 'r') as f:\n",
    "        all_content.append(f.read())\n"
   ]
  },
  {
   "cell_type": "code",
   "execution_count": 4,
   "id": "aware-wings",
   "metadata": {},
   "outputs": [],
   "source": [
    "def clean_and_extract_sentences(text):\n",
    "    clean = remove_punctuation(text)\n",
    "    sentences = split_sentences(clean)\n",
    "    sentences_word_list = []\n",
    "    for sentence in sentences:\n",
    "        splitted = [x for x in sentence.split() if x]\n",
    "        suffix_processed = process_suffixes(SUFFIXES, splitted)\n",
    "        sentences_word_list.append(\n",
    "            [x for x in suffix_processed if x]\n",
    "        )\n",
    "    return sentences_word_list"
   ]
  },
  {
   "cell_type": "code",
   "execution_count": 5,
   "id": "forbidden-electricity",
   "metadata": {},
   "outputs": [
    {
     "name": "stdout",
     "output_type": "stream",
     "text": [
      "118872\n"
     ]
    }
   ],
   "source": [
    "# Get unique words and their corresponding count within corpus\n",
    "from collections import Counter\n",
    "\n",
    "words_count = Counter()\n",
    "for content in all_content:\n",
    "    cleaned_sentences = clean_and_extract_sentences(content)\n",
    "    for sentence in cleaned_sentences:\n",
    "        words_count.update(sentence)\n",
    "\n",
    "print(len(words_count))"
   ]
  },
  {
   "cell_type": "code",
   "execution_count": 7,
   "id": "reflected-function",
   "metadata": {},
   "outputs": [
    {
     "name": "stdout",
     "output_type": "stream",
     "text": [
      "Time taken to sort :  0.04373979568481445\n",
      "[('N', 196257), ('छ', 118307), ('लाई', 97504), ('र', 97086), ('भए', 78608), ('गरे', 62055), ('पनि', 61618), ('बाट', 47160), ('छन्', 44599), ('भने', 43731), ('उन', 38068), ('पछि', 34132), ('जना', 32026), ('कोरोना', 30723), ('गर्ने', 29194), ('गर्न', 29012), ('नेपाल', 28924), ('सरकार', 28712), ('हो', 28696), ('लागि', 28022), ('थियो', 27986), ('बताए', 25958), ('सँग', 24939), ('रहे', 22676), ('तर', 21205), ('काठमाडौं', 20913), ('सम्म', 20786), ('तथा', 20768), ('यो', 20537), ('एक', 20387), ('प्रहरी', 19888), ('उनी', 19843), ('नै', 19329), ('दिए', 19163), ('यस', 18618), ('आए', 18368), ('अनुसार', 18278), ('हुने', 17439), ('गरिए', 17165), ('अस्पताल', 17031), ('संक्रमण', 16745), ('थिए', 16371), ('वर्ष', 15877), ('काम', 15818), ('प्रदेश', 15291), ('दिन', 15075), ('हजार', 14773), ('संक्रमित', 14456), ('मात्र', 14356), ('ओली', 14164), ('अहि', 14117), ('प्रधानमन्त्री', 13780), ('जिल्ला', 13638), ('भन्ने', 13377), ('पार्टी', 13238), ('देखि', 13203), ('सबै', 13200), ('समेत', 12917), ('त्यस', 12789), ('मृत्यु', 12760), ('बैठक', 12740), ('क्षेत्र', 12440), ('छैन', 12401), ('गरी', 12240), ('कारण', 12227), ('भन्दा', 12077), ('हामी', 11830), ('अवस्था', 11707), ('जानकारी', 11576), ('कार्यालय', 11559), ('निर्णय', 11521), ('नेपाली', 11425), ('स्वास्थ्य', 11250), ('दुई', 11040), ('भारत', 10936), ('घर', 10676), ('नेता', 10620), ('मन्त्रालय', 10618), ('गरेर', 10533), ('केही', 10221), ('गते', 9794), ('समय', 9660), ('अघि', 9644), ('अध्यक्ष', 9612), ('प्रमुख', 9586), ('भन्दै', 9403), ('परीक्षण', 9399), ('परे', 9252), ('लाख', 9139), ('गर्दै', 9100), ('समिति', 9047), ('देखिए', 8694), ('सय', 8664), ('सहित', 8640), ('स्थानीय', 8518), ('समस्या', 8421), ('नेकपा', 8359), ('त', 8196), ('हुन', 8134), ('हुन्छ', 8053), ('उपचार', 8042), ('रुप', 7940), ('पुष्टि', 7905), ('बारे', 7900), ('जनाए', 7900), ('रुपैयाँ', 7898), ('हुन्', 7863), ('समूह', 7754), ('व्यवस्था', 7751), ('धेरै', 7740), ('विषय', 7621), ('कुरा', 7609), ('पुगे', 7480), ('कार्यक्रम', 7466), ('निर्माण', 7365), ('बताउँछन्', 7351), ('लगायत', 7264), ('गर्दा', 7165), ('संसद', 7164), ('कुनै', 7100), ('डा', 7086), ('देश', 7067), ('भित्र', 7064), ('अब', 7062), ('प्रतिशत', 6895), ('थप', 6871), ('भनेर', 6780), ('लकडाउन', 6722), ('सुरु', 6685), ('बढी', 6629), ('नगरपालिका', 6610), ('स्थित', 6549), ('भयो', 6448), ('सेवा', 6442), ('विकास', 6422), ('माग', 6420), ('भाइरस', 6367), ('नभए', 6362), ('आफू', 6353), ('सदस्य', 6345), ('संख्या', 6269), ('करोड', 6202), ('माथि', 6156), ('अधिकारी', 6154), ('छलफल', 6128), ('बीच', 6120), ('सडक', 6108), ('सञ्चालन', 6104), ('महिला', 6089), ('आफ्नो', 6068), ('नयाँ', 6057), ('तीन', 6049), ('सांसद', 6023), ('मध्ये', 6022), ('बजेट', 5959), ('त्यो', 5916), ('वा', 5728), ('भइरहे', 5704), ('दिने', 5696), ('महिना', 5665), ('कम्पनी', 5590), ('पक्राउ', 5581), ('वर्षीय', 5571), ('पक्ष', 5566), ('क्रम', 5564), ('अन्य', 5518), ('आर्थिक', 5472), ('गाउँपालि', 5464), ('व्यक्ति', 5453), ('बैंक', 5433), ('म', 5395), ('भन्छन्', 5364), ('गए', 5309), ('मन्त्री', 5287), ('जारी', 5206), ('दल', 5194), ('आयोजना', 5184), ('बसे', 5128), ('नि', 5104), ('राष्ट्रिय', 5078), ('प्रस्ताव', 5074), ('तह', 5018), ('के', 4985), ('वटा', 4980), ('तर्फ', 4977), ('अदालत', 4938), ('आयोग', 4871), ('विभिन्न', 4858), ('शर्', 4842), ('नागरिक', 4787), ('कांग्रेस', 4777), ('लागे', 4772), ('व्यवस्थापन', 4756), ('सार्वजनिक', 4756), ('बेला', 4752), ('नियन्त्रण', 4747), ('संविधान', 4725), ('प्रचण्ड', 4720), ('जनता', 4644), ('गर्नुपर्ने', 4623)]\n"
     ]
    }
   ],
   "source": [
    "# Save words list, sorted\n",
    "import time\n",
    "s = time.time()\n",
    "sorted_words_list = sorted(words_count.items(), key=lambda x: x[1], reverse=True)\n",
    "e = time.time()\n",
    "print('Time taken to sort : ', e - s)\n",
    "print(sorted_words_list[:200])\n",
    "\n",
    "def a():\n",
    "    WORDS_COUNT_FILE = 'words_count.txt'\n",
    "    with open(WORDS_COUNT_FILE, 'w') as f:\n",
    "        for k, v in words_count.items():\n",
    "            f.write(f'{k} {v}\\n')"
   ]
  }
 ],
 "metadata": {
  "kernelspec": {
   "display_name": "nepali-vectors-embedding",
   "language": "python",
   "name": "nepali-vectors-embedding"
  },
  "language_info": {
   "codemirror_mode": {
    "name": "ipython",
    "version": 3
   },
   "file_extension": ".py",
   "mimetype": "text/x-python",
   "name": "python",
   "nbconvert_exporter": "python",
   "pygments_lexer": "ipython3",
   "version": "3.7.2"
  }
 },
 "nbformat": 4,
 "nbformat_minor": 5
}
